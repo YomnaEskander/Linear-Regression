{
 "cells": [
  {
   "cell_type": "markdown",
   "id": "72572c25",
   "metadata": {},
   "source": [
    "# Linear Regression "
   ]
  },
  {
   "cell_type": "code",
   "execution_count": 23,
   "id": "7e23adda",
   "metadata": {},
   "outputs": [],
   "source": [
    "import pandas as pd\n",
    "import numpy as np\n",
    "import matplotlib as plt\n",
    "from matplotlib import pyplot"
   ]
  },
  {
   "cell_type": "markdown",
   "id": "fe99de1a",
   "metadata": {},
   "source": [
    "This was importing the needed libaries needed to do the math and visualize the data, now, the below code is loading the data into this script and showing it."
   ]
  },
  {
   "cell_type": "code",
   "execution_count": 24,
   "id": "f4b05ac9",
   "metadata": {},
   "outputs": [
    {
     "data": {
      "text/html": [
       "<div>\n",
       "<style scoped>\n",
       "    .dataframe tbody tr th:only-of-type {\n",
       "        vertical-align: middle;\n",
       "    }\n",
       "\n",
       "    .dataframe tbody tr th {\n",
       "        vertical-align: top;\n",
       "    }\n",
       "\n",
       "    .dataframe thead th {\n",
       "        text-align: right;\n",
       "    }\n",
       "</style>\n",
       "<table border=\"1\" class=\"dataframe\">\n",
       "  <thead>\n",
       "    <tr style=\"text-align: right;\">\n",
       "      <th></th>\n",
       "      <th>customer_number</th>\n",
       "      <th>profit</th>\n",
       "    </tr>\n",
       "  </thead>\n",
       "  <tbody>\n",
       "    <tr>\n",
       "      <th>count</th>\n",
       "      <td>97.000000</td>\n",
       "      <td>97.000000</td>\n",
       "    </tr>\n",
       "    <tr>\n",
       "      <th>mean</th>\n",
       "      <td>8.159800</td>\n",
       "      <td>5.839135</td>\n",
       "    </tr>\n",
       "    <tr>\n",
       "      <th>std</th>\n",
       "      <td>3.869884</td>\n",
       "      <td>5.510262</td>\n",
       "    </tr>\n",
       "    <tr>\n",
       "      <th>min</th>\n",
       "      <td>5.026900</td>\n",
       "      <td>-2.680700</td>\n",
       "    </tr>\n",
       "    <tr>\n",
       "      <th>25%</th>\n",
       "      <td>5.707700</td>\n",
       "      <td>1.986900</td>\n",
       "    </tr>\n",
       "    <tr>\n",
       "      <th>50%</th>\n",
       "      <td>6.589400</td>\n",
       "      <td>4.562300</td>\n",
       "    </tr>\n",
       "    <tr>\n",
       "      <th>75%</th>\n",
       "      <td>8.578100</td>\n",
       "      <td>7.046700</td>\n",
       "    </tr>\n",
       "    <tr>\n",
       "      <th>max</th>\n",
       "      <td>22.203000</td>\n",
       "      <td>24.147000</td>\n",
       "    </tr>\n",
       "  </tbody>\n",
       "</table>\n",
       "</div>"
      ],
      "text/plain": [
       "       customer_number     profit\n",
       "count        97.000000  97.000000\n",
       "mean          8.159800   5.839135\n",
       "std           3.869884   5.510262\n",
       "min           5.026900  -2.680700\n",
       "25%           5.707700   1.986900\n",
       "50%           6.589400   4.562300\n",
       "75%           8.578100   7.046700\n",
       "max          22.203000  24.147000"
      ]
     },
     "execution_count": 24,
     "metadata": {},
     "output_type": "execute_result"
    }
   ],
   "source": [
    "data=pd.read_csv('C:\\\\Users\\PC\\\\Desktop\\\\assignment1_dataset.csv')\n",
    "data.describe()"
   ]
  },
  {
   "cell_type": "markdown",
   "id": "2bb2bd18",
   "metadata": {},
   "source": [
    "Now the below code is a scatter plot to visualize the dataset as shown below."
   ]
  },
  {
   "cell_type": "code",
   "execution_count": 25,
   "id": "b78757e9",
   "metadata": {},
   "outputs": [
    {
     "data": {
      "text/plain": [
       "<AxesSubplot:xlabel='customer_number', ylabel='profit'>"
      ]
     },
     "execution_count": 25,
     "metadata": {},
     "output_type": "execute_result"
    },
    {
     "data": {
      "image/png": "[encoded data removed]",
      "text/plain": [
       "<Figure size 432x288 with 1 Axes>"
      ]
     },
     "metadata": {
      "needs_background": "light"
     },
     "output_type": "display_data"
    }
   ],
   "source": [
    "data.plot(kind='scatter',x='customer_number',y='profit')"
   ]
  },
  {
   "cell_type": "code",
   "execution_count": 26,
   "id": "e4c4d537",
   "metadata": {},
   "outputs": [
    {
     "name": "stderr",
     "output_type": "stream",
     "text": [
      "<ipython-input-26-4a3071fe3071>:8: DeprecationWarning: `np.int` is a deprecated alias for the builtin `int`. To silence this warning, use `int` by itself. Doing this will not modify any behavior and is safe. When replacing `np.int`, you may wish to use e.g. `np.int64` or `np.int32` to specify the precision. If you wish to review your current use, check the release note link for additional information.\n",
      "Deprecated in NumPy 1.20; for more details and guidance: https://numpy.org/devdocs/release/1.20.0-notes.html#deprecations\n",
      "  m = np.int(x.shape[0])\n"
     ]
    }
   ],
   "source": [
    "x=data[\"customer_number\"] ##spliting the profit data into a list\n",
    "y=data['profit'] #spliting the profit data into a list\n",
    "alpha=0.01 #setting the learning rate by 0.01 this means the steps our model will take to learn\n",
    "theta1 = 0\n",
    "theta0 = 0#this is a random value for the parameters we wil use as initial. then we update those to reach global min.\n",
    "iterations = 1500 #how many steps we will take\n",
    "#new_parameters=[]#list to store updated thetas\n",
    "m = np.int(x.shape[0]) "
   ]
  },
  {
   "cell_type": "markdown",
   "id": "6df00948",
   "metadata": {},
   "source": [
    "# Computing Cost"
   ]
  },
  {
   "cell_type": "markdown",
   "id": "91b95842",
   "metadata": {},
   "source": [
    "The below code is the fucntion computecost which will be used in the gradient descent to calculate the cost and monitor it's changing."
   ]
  },
  {
   "cell_type": "code",
   "execution_count": 27,
   "id": "a233403b",
   "metadata": {},
   "outputs": [],
   "source": [
    "J_history=[] #this list stores the loss after each update each iteration\n",
    "def computeCost(x,y,thetas):\n",
    "        j=(1/m)*np.sum(((thetas[0]*x+thetas[1])-y)**2)\n",
    "        J_history.append(j)\n",
    "        return j"
   ]
  },
  {
   "cell_type": "markdown",
   "id": "7fdcbe11",
   "metadata": {},
   "source": [
    "# Gradient Descent"
   ]
  },
  {
   "cell_type": "markdown",
   "id": "96ac119d",
   "metadata": {},
   "source": [
    "Gradient descent is used to predict pramaters and optimize a loss function using the optimal parameters it finds."
   ]
  },
  {
   "cell_type": "code",
   "execution_count": 46,
   "id": "ac9b6233",
   "metadata": {},
   "outputs": [],
   "source": [
    "new_parameters=[]#list to store updated thetas\n",
    "old_thetas=[0,0]\n",
    "def gradient_descent(x,y,theta,iterations,alpha): \n",
    "    for i in range(iterations):\n",
    "        cost=computeCost(x,y,theta)\n",
    "        y_predicted= theta[1]*x+theta[0] \n",
    "        der_theta0=(-2/m)*np.sum(y-y_predicted)#next calculate the derivates of both parameters to optimize the function to finding the optimal parameters\n",
    "        der_theta1=(-2/m)*np.sum(x*(y-y_predicted))\n",
    "        theta[1]=theta[1]-(alpha*der_theta1) #get the new thetas\n",
    "        theta[0]=theta[0]-(alpha*der_theta0)\n",
    "        #print(\"theta[1] {}, theta[0] {}, iter {}\".format(der_theta0,der_theta1,i)) #to print each iteration\n",
    "    new_parameters.append(theta[0]) #adding the updated thetas into the list\n",
    "    new_parameters.append(theta[1])\n",
    "    return new_parameters\n",
    "\n",
    "    "
   ]
  },
  {
   "cell_type": "code",
   "execution_count": 47,
   "id": "9b66220b",
   "metadata": {},
   "outputs": [
    {
     "data": {
      "text/plain": [
       "[-3.878137690865592, 1.191261194638165]"
      ]
     },
     "execution_count": 47,
     "metadata": {},
     "output_type": "execute_result"
    }
   ],
   "source": [
    "gradient_descent(x,y,[0,0],1500,0.01)\n"
   ]
  },
  {
   "cell_type": "markdown",
   "id": "153f95ac",
   "metadata": {},
   "source": [
    "# Running the code"
   ]
  },
  {
   "cell_type": "markdown",
   "id": "ee46980a",
   "metadata": {},
   "source": [
    "The next couple of lines will run all the code to fit a linear line into the data"
   ]
  },
  {
   "cell_type": "code",
   "execution_count": 53,
   "id": "096014ea",
   "metadata": {},
   "outputs": [
    {
     "name": "stdout",
     "output_type": "stream",
     "text": [
      "Choose alpha:  0.01\n",
      "Choose theta:  0\n",
      "Choose theta:  0\n",
      "Choose number of iterations:  1500\n",
      "add the data:  70000\n",
      "83384.4054869807\n"
     ]
    }
   ],
   "source": [
    "alpha_user= float(input(\"Choose alpha:  \"))\n",
    "thetas_user =[float(input(\"Choose theta:  \")),float(input(\"Choose theta:  \"))]\n",
    "iteras_number=int(input(\"Choose number of iterations:  \"))\n",
    "updated_parameters=gradient_descent(x,y,thetas_user,iteras_number,alpha_user)\n",
    "x_user= int(input(\"add the data:  \"))\n",
    "y_predict=(updated_parameters[1]*x_user)+updated_parameters[0]\n",
    "print(y_predict)\n",
    "\n"
   ]
  },
  {
   "cell_type": "code",
   "execution_count": null,
   "id": "30f3e5d0",
   "metadata": {},
   "outputs": [],
   "source": []
  },
  {
   "cell_type": "code",
   "execution_count": null,
   "id": "d0865607",
   "metadata": {},
   "outputs": [],
   "source": []
  }
 ],
 "metadata": {
  "kernelspec": {
   "display_name": "Python 3 (ipykernel)",
   "language": "python",
   "name": "python3"
  },
  "language_info": {
   "codemirror_mode": {
    "name": "ipython",
    "version": 3
   },
   "file_extension": ".py",
   "mimetype": "text/x-python",
   "name": "python",
   "nbconvert_exporter": "python",
   "pygments_lexer": "ipython3",
   "version": "3.9.13"
  }
 },
 "nbformat": 4,
 "nbformat_minor": 5
}
